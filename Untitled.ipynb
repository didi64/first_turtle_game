{
 "cells": [
  {
   "cell_type": "code",
   "execution_count": 1,
   "id": "1193ecd5-a65e-465d-af5e-fbdd20f80aac",
   "metadata": {},
   "outputs": [],
   "source": [
    "%run 'game.py'"
   ]
  },
  {
   "cell_type": "code",
   "execution_count": 2,
   "id": "b525a3c3-2fce-4d03-814f-f81361053b20",
   "metadata": {},
   "outputs": [
    {
     "name": "stdout",
     "output_type": "stream",
     "text": [
      "Hello, world!\n"
     ]
    }
   ],
   "source": [
    "%run 'hello.py'"
   ]
  },
  {
   "cell_type": "code",
   "execution_count": null,
   "id": "ea643388-9cc7-4b2c-8d29-87381669c180",
   "metadata": {},
   "outputs": [],
   "source": []
  }
 ],
 "metadata": {
  "kernelspec": {
   "display_name": "Python 3 (ipykernel)",
   "language": "python",
   "name": "python3"
  },
  "language_info": {
   "codemirror_mode": {
    "name": "ipython",
    "version": 3
   },
   "file_extension": ".py",
   "mimetype": "text/x-python",
   "name": "python",
   "nbconvert_exporter": "python",
   "pygments_lexer": "ipython3",
   "version": "3.8.10"
  }
 },
 "nbformat": 4,
 "nbformat_minor": 5
}
